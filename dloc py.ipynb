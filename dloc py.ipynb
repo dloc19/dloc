{
 "cells": [
  {
   "cell_type": "markdown",
   "id": "f4980c59",
   "metadata": {},
   "source": [
    "## Dương Văn Lộc\n",
    "## Mã sinh viên: 2022606870\n",
    "## Lớp: KHMT02"
   ]
  },
  {
   "cell_type": "code",
   "execution_count": 5,
   "id": "8142b9ab",
   "metadata": {
    "scrolled": true
   },
   "outputs": [
    {
     "name": "stdout",
     "output_type": "stream",
     "text": [
      "[[1.4 0.7 2.9 8.5 7.2]\n",
      " [1.1 1.5 4.7 2.9 5.1]\n",
      " [2.8 2.9 6.2 7.8 8.8]\n",
      " [2.5 6.8 1.3 0.  4. ]\n",
      " [2.3 5.  2.7 8.  9. ]]\n",
      "\n",
      "\n",
      "Gia tri rieng la: \n",
      "81.19414000000013\n",
      "\n",
      "\n",
      "Ma tran nghich dao la: \n",
      "\n",
      "[[ 2.33636812 -0.20106623 -0.34802758  1.47445739 -2.07017772]\n",
      " [-1.90472367 -0.43650441  0.81072107 -0.92952521  1.3915487 ]\n",
      " [-1.43530802 -0.21680629  0.79345874 -0.75309253  0.82998477]\n",
      " [-1.52164676 -0.65166526  0.92147044 -0.88637308  1.07954466]\n",
      " [ 2.24427526  0.93818593 -1.41858267  1.15341206 -1.34151676]]\n",
      "\n",
      "\n",
      "Cac gia tri rieng: \n",
      "[21.43841923+0.j         -2.11981469+0.83553814j -2.11981469-0.83553814j\n",
      "  0.45060508+0.7255651j   0.45060508-0.7255651j ]\n",
      "GTR 1:\n",
      " (21.438419225767497+0j)\n",
      "VTR 1:\n",
      " [0.4107086 +0.j 0.33993948+0.j 0.59375   +0.j 0.29026942+0.j\n",
      " 0.52817061+0.j]\n",
      "\n",
      "\n",
      "GTR 2:\n",
      " [ 0.60965856+0.j         -0.29176191-0.11535905j  0.01092997-0.06782441j\n",
      " -0.58583851+0.02075299j  0.4175387 +0.0847826j ]\n",
      "VTR 2:\n",
      " [ 0.60965856+0.j         -0.29176191-0.11535905j  0.01092997-0.06782441j\n",
      " -0.58583851+0.02075299j  0.4175387 +0.0847826j ]\n"
     ]
    }
   ],
   "source": [
    "import numpy as np\n",
    "\n",
    "Matrix_A = np.array([[1.4, 0.7, 2.9, 8.5, 7.2],\n",
    "                     [1.1, 1.5, 4.7, 2.9, 5.1],\n",
    "                     [2.8, 2.9, 6.2, 7.8, 8.8],\n",
    "                     [2.5, 6.8, 1.3, 0.0, 4.0],\n",
    "                     [2.3, 5.0, 2.7, 8.0, 9.0]])\n",
    "print(Matrix_A)\n",
    "print(\"\\n\")\n",
    "   \n",
    "# a, Tinh dinh thuc cua ma tran\n",
    "print(\"Gia tri rieng la: \")\n",
    "print(np.linalg.det(Matrix_A))\n",
    "print(\"\\n\")\n",
    "\n",
    "# b, Tinh ma tran nghich dao\n",
    "print(\"Ma tran nghich dao la: \\n\")\n",
    "print(np.linalg.inv(Matrix_A))\n",
    "print(\"\\n\")\n",
    "\n",
    "# c, Gia tri rieng, vecto rieng\n",
    "GTR, VTR = np.linalg.eig(Matrix_A)\n",
    "print(\"Cac gia tri rieng: \")\n",
    "print(GTR)\n",
    "\n",
    "\n",
    "# Truy cap gia tri rieng, vecto rieng \n",
    "GTR_1 = GTR[0]\n",
    "VTR_1 = VTR[:, 0]\n",
    "\n",
    "GTR_2 = GTR[1]\n",
    "VTR_2 = VTR[:, 1]\n",
    "\n",
    "print(\"GTR 1:\\n\", GTR_1)\n",
    "print(\"VTR 1:\\n\", VTR_1)\n",
    "print(\"\\n\")\n",
    "print(\"GTR 2:\\n\", VTR_2)\n",
    "print(\"VTR 2:\\n\", VTR_2)\n",
    "\n"
   ]
  },
  {
   "cell_type": "code",
   "execution_count": 6,
   "id": "4bbd74d6",
   "metadata": {},
   "outputs": [
    {
     "name": "stdout",
     "output_type": "stream",
     "text": [
      "[[1.4 0.7 2.9 7.2]\n",
      " [2.8 2.9 6.2 8.8]\n",
      " [2.5 6.8 1.3 4. ]\n",
      " [2.3 5.  2.7 9. ]]\n",
      "[[1.1 1.5 4.7 2.9]\n",
      " [2.8 2.9 6.2 7.8]\n",
      " [2.5 6.8 1.3 0. ]\n",
      " [2.3 5.  2.7 8. ]]\n",
      "\n",
      "\n",
      "A1 * A2 = \n",
      "[[ 27.31  59.85  34.13  67.12]\n",
      " [ 46.94  98.77  62.96 101.14]\n",
      " [ 34.24  52.31  66.4   92.29]\n",
      " [ 43.98  81.31  69.62 117.67]]\n",
      "[[1.4 0.7 2.9 7.2]\n",
      " [2.8 2.9 6.2 8.8]\n",
      " [2.5 6.8 1.3 4. ]\n",
      " [2.3 5.  2.7 9. ]]\n"
     ]
    }
   ],
   "source": [
    "row_A1 = [0, 2, 3, 4]  \n",
    "col_A1 = [0, 1, 2, 4]\n",
    "Matrix_A1 = Matrix_A[np.ix_(row_A1, col_A1)]\n",
    "print(Matrix_A1)\n",
    "\n",
    "row_A2 = [1, 2, 3, 4]  \n",
    "col_A2 = [0, 1, 2, 3]\n",
    "Matrix_A2 = Matrix_A[np.ix_(row_A2, col_A2)]\n",
    "print(Matrix_A2)\n",
    "\n",
    "print(\"\\n\")\n",
    "print(\"A1 * A2 = \")\n",
    "print(Matrix_A1@Matrix_A2)\n",
    "\n",
    "\n",
    "\n",
    "\n",
    "row_indices = [0, 2, 3, 4]\n",
    "col_indices = [0, 1, 2, 4]\n",
    "Matrix_A3 = Matrix_A[row_indices][:, col_indices]\n",
    "print(Matrix_A3)"
   ]
  },
  {
   "cell_type": "code",
   "execution_count": 7,
   "id": "8e6a952e",
   "metadata": {},
   "outputs": [
    {
     "name": "stdout",
     "output_type": "stream",
     "text": [
      "[[0.  0.  0.  8.5 7.2]\n",
      " [0.  0.  4.7 0.  5.1]\n",
      " [0.  0.  6.2 7.8 8.8]\n",
      " [0.  6.8 0.  0.  4. ]\n",
      " [0.  5.  0.  8.  9. ]]\n",
      "Định thức của ma trận B: 0.0\n",
      "Hạng của ma trận B: 4\n"
     ]
    }
   ],
   "source": [
    "Matrix_B = Matrix_A\n",
    "\n",
    "Matrix_B[Matrix_B < 4] = 0\n",
    "print(Matrix_B)\n",
    "\n",
    "DT = np.linalg.det(Matrix_B)\n",
    "rank = np.linalg.matrix_rank(Matrix_B)\n",
    "print(\"Định thức của ma trận B:\", DT)\n",
    "print(\"Hạng của ma trận B:\", rank)"
   ]
  },
  {
   "cell_type": "code",
   "execution_count": 8,
   "id": "15c82f0c",
   "metadata": {},
   "outputs": [
    {
     "ename": "ModuleNotFoundError",
     "evalue": "No module named 'pandas'",
     "output_type": "error",
     "traceback": [
      "\u001b[1;31m---------------------------------------------------------------------------\u001b[0m",
      "\u001b[1;31mModuleNotFoundError\u001b[0m                       Traceback (most recent call last)",
      "Cell \u001b[1;32mIn[8], line 1\u001b[0m\n\u001b[1;32m----> 1\u001b[0m \u001b[38;5;28;01mimport\u001b[39;00m \u001b[38;5;21;01mpandas\u001b[39;00m \u001b[38;5;28;01mas\u001b[39;00m \u001b[38;5;21;01mpd\u001b[39;00m\n\u001b[0;32m      2\u001b[0m \u001b[38;5;28;01mfrom\u001b[39;00m \u001b[38;5;21;01msklearn\u001b[39;00m\u001b[38;5;21;01m.\u001b[39;00m\u001b[38;5;21;01mpreprocessing\u001b[39;00m \u001b[38;5;28;01mimport\u001b[39;00m MinMaxScaler\n\u001b[0;32m      3\u001b[0m \u001b[38;5;28;01mfrom\u001b[39;00m \u001b[38;5;21;01msklearn\u001b[39;00m\u001b[38;5;21;01m.\u001b[39;00m\u001b[38;5;21;01mpreprocessing\u001b[39;00m \u001b[38;5;28;01mimport\u001b[39;00m StandardScaler\n",
      "\u001b[1;31mModuleNotFoundError\u001b[0m: No module named 'pandas'"
     ]
    }
   ],
   "source": [
    "import pandas as pd\n",
    "from sklearn.preprocessing import MinMaxScaler\n",
    "from sklearn.preprocessing import StandardScaler\n",
    "from sklearn.preprocessing import LabelEncoder\n",
    "\n",
    "print(\"\\n=============================CAU A=============================\")\n",
    "df = pd.read_csv('./Example.csv')\n",
    "print(df)\n",
    "\n",
    "print(\"\\n=============================CAU B=============================\")\n",
    "cot_chuan_hoa = ['A', 'C', 'E']\n",
    "dulieu = df[cot_chuan_hoa].values  \n",
    "scaler_b = MinMaxScaler()\n",
    "df[cot_chuan_hoa] = scaler_b.fit_transform(df[cot_chuan_hoa])\n",
    "print(df)\n",
    "\n",
    "print(\"\\n============================CAU C===============================\")\n",
    "cot_chuan_hoa_cauC = ['B', 'D', 'F', 'G']\n",
    "scaler_c = StandardScaler()\n",
    "df[cot_chuan_hoa_cauC] = scaler_c.fit_transform(df[cot_chuan_hoa_cauC])\n",
    "print(df)\n",
    "\n",
    "print(\"\\n============================CAU D===============================\")\n",
    "cot_chuan_hoa = ['A', 'B', 'C', 'D', 'E', 'F', 'G']\n",
    "scaler = MinMaxScaler()\n",
    "df[cot_chuan_hoa] = scaler.fit_transform(df[cot_chuan_hoa])\n",
    "df[cot_chuan_hoa] = df[cot_chuan_hoa] * (0.7 - 0.2) + 0.2\n",
    "print(df)\n",
    "\n",
    "print(\"\\n============================CAU E===============================\")\n",
    "encoder = LabelEncoder()\n",
    "df['H'] = encoder.fit_transform(df['H'])\n",
    "print(df)"
   ]
  },
  {
   "cell_type": "code",
   "execution_count": 3,
   "id": "2788f87c",
   "metadata": {},
   "outputs": [
    {
     "name": "stdout",
     "output_type": "stream",
     "text": [
      "Biến đổi Fourier 1D: [36.+0.j         -4.+9.65685425j -4.+4.j         -4.+1.65685425j\n",
      " -4.+0.j         -4.-1.65685425j -4.-4.j         -4.-9.65685425j]\n",
      "Biến đổi Fourier ngược 1D: [1.+0.j 2.+0.j 3.+0.j 4.+0.j 5.+0.j 6.+0.j 7.+0.j 8.+0.j]\n"
     ]
    }
   ],
   "source": [
    "import numpy as np\n",
    "import matplotlib.pyplot as plt\n",
    "\n",
    "# Tín hiệu rời rạc 1D\n",
    "f = np.array([1, 2, 3, 4, 5, 6, 7, 8])\n",
    "\n",
    "# Biến đổi Fourier 1D\n",
    "F = np.fft.fft(f)\n",
    "\n",
    "# Biến đổi ngược Fourier 1D\n",
    "f_inverse = np.fft.ifft(F)\n",
    "\n",
    "print(\"Biến đổi Fourier 1D:\", F)\n",
    "print(\"Biến đổi Fourier ngược 1D:\", f_inverse)\n"
   ]
  },
  {
   "cell_type": "code",
   "execution_count": 4,
   "id": "f1c21893",
   "metadata": {},
   "outputs": [
    {
     "name": "stdout",
     "output_type": "stream",
     "text": [
      "Biến đổi Fourier 2D:\n",
      " [[288. +0.j         0. +0.j         0. +0.j         0. +0.j\n",
      "    0. +0.j         0. +0.j         0. +0.j         0. +0.j      ]\n",
      " [  0. +0.j         0. +0.j         0. +0.j         0. +0.j\n",
      "    0. +0.j         0. +0.j         0. +0.j         0. +0.j      ]\n",
      " [  0. +0.j         0. +0.j         0. +0.j         0. +0.j\n",
      "    0. +0.j         0. +0.j         0. +0.j         0. +0.j      ]\n",
      " [  0. +0.j         0. +0.j         0. +0.j         0. +0.j\n",
      "    0. +0.j         0. +0.j         0. +0.j         0. +0.j      ]\n",
      " [  0. +0.j       -32.+77.254834j -32.+32.j       -32.+13.254834j\n",
      "  -32. +0.j       -32.-13.254834j -32.-32.j       -32.-77.254834j]\n",
      " [  0. +0.j         0. +0.j         0. +0.j         0. +0.j\n",
      "    0. +0.j         0. +0.j         0. +0.j         0. +0.j      ]\n",
      " [  0. +0.j         0. +0.j         0. +0.j         0. +0.j\n",
      "    0. +0.j         0. +0.j         0. +0.j         0. +0.j      ]\n",
      " [  0. +0.j         0. +0.j         0. +0.j         0. +0.j\n",
      "    0. +0.j         0. +0.j         0. +0.j         0. +0.j      ]]\n",
      "Biến đổi Fourier ngược 2D:\n",
      " [[1.+0.j 2.+0.j 3.+0.j 4.+0.j 5.+0.j 6.+0.j 7.+0.j 8.+0.j]\n",
      " [8.+0.j 7.+0.j 6.+0.j 5.+0.j 4.+0.j 3.+0.j 2.+0.j 1.+0.j]\n",
      " [1.+0.j 2.+0.j 3.+0.j 4.+0.j 5.+0.j 6.+0.j 7.+0.j 8.+0.j]\n",
      " [8.+0.j 7.+0.j 6.+0.j 5.+0.j 4.+0.j 3.+0.j 2.+0.j 1.+0.j]\n",
      " [1.+0.j 2.+0.j 3.+0.j 4.+0.j 5.+0.j 6.+0.j 7.+0.j 8.+0.j]\n",
      " [8.+0.j 7.+0.j 6.+0.j 5.+0.j 4.+0.j 3.+0.j 2.+0.j 1.+0.j]\n",
      " [1.+0.j 2.+0.j 3.+0.j 4.+0.j 5.+0.j 6.+0.j 7.+0.j 8.+0.j]\n",
      " [8.+0.j 7.+0.j 6.+0.j 5.+0.j 4.+0.j 3.+0.j 2.+0.j 1.+0.j]]\n"
     ]
    },
    {
     "data": {
      "image/png": "[encoded data removed]",
      "text/plain": [
       "<Figure size 1000x500 with 2 Axes>"
      ]
     },
     "metadata": {},
     "output_type": "display_data"
    }
   ],
   "source": [
    "import numpy as np\n",
    "import matplotlib.pyplot as plt\n",
    "\n",
    "# Ảnh mẫu 2D (ma trận 8x8)\n",
    "image = np.array([\n",
    "    [1, 2, 3, 4, 5, 6, 7, 8],\n",
    "    [8, 7, 6, 5, 4, 3, 2, 1],\n",
    "    [1, 2, 3, 4, 5, 6, 7, 8],\n",
    "    [8, 7, 6, 5, 4, 3, 2, 1],\n",
    "    [1, 2, 3, 4, 5, 6, 7, 8],\n",
    "    [8, 7, 6, 5, 4, 3, 2, 1],\n",
    "    [1, 2, 3, 4, 5, 6, 7, 8],\n",
    "    [8, 7, 6, 5, 4, 3, 2, 1]\n",
    "])\n",
    "\n",
    "# Biến đổi Fourier 2D\n",
    "F2 = np.fft.fft2(image)\n",
    "\n",
    "# Dịch chuyển zero-frequency component về trung tâm\n",
    "F2_shifted = np.fft.fftshift(F2)\n",
    "\n",
    "# Biến đổi Fourier ngược 2D\n",
    "image_inverse = np.fft.ifft2(F2)\n",
    "\n",
    "print(\"Biến đổi Fourier 2D:\\n\", F2)\n",
    "print(\"Biến đổi Fourier ngược 2D:\\n\", image_inverse)\n",
    "\n",
    "# Hiển thị ảnh gốc và ảnh sau khi chuyển đổi Fourier\n",
    "plt.figure(figsize=(10, 5))\n",
    "plt.subplot(1, 2, 1)\n",
    "plt.title(\"Ảnh gốc\")\n",
    "plt.imshow(image, cmap=\"gray\")\n",
    "plt.subplot(1, 2, 2)\n",
    "plt.title(\"Phổ tần số\")\n",
    "plt.imshow(np.log(np.abs(F2_shifted) + 1), cmap=\"gray\")\n",
    "plt.show()\n"
   ]
  },
  {
   "cell_type": "code",
   "execution_count": null,
   "id": "16ef379f",
   "metadata": {},
   "outputs": [],
   "source": []
  }
 ],
 "metadata": {
  "kernelspec": {
   "display_name": "Python 3",
   "language": "python",
   "name": "python3"
  },
  "language_info": {
   "codemirror_mode": {
    "name": "ipython",
    "version": 3
   },
   "file_extension": ".py",
   "mimetype": "text/x-python",
   "name": "python",
   "nbconvert_exporter": "python",
   "pygments_lexer": "ipython3",
   "version": "3.13.0"
  }
 },
 "nbformat": 4,
 "nbformat_minor": 5
}
